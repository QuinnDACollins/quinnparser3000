{
 "cells": [
  {
   "cell_type": "code",
   "execution_count": 50,
   "metadata": {},
   "outputs": [],
   "source": [
    "import requests\n",
    "import datetime"
   ]
  },
  {
   "cell_type": "code",
   "execution_count": 52,
   "metadata": {},
   "outputs": [
    {
     "name": "stdout",
     "output_type": "stream",
     "text": [
      "<a href=\"https://soundcloud.com/quinndaco/somber-work-on-side-chain-pad-and-kick\"><div class=\"ach\"> <img class=\"ach-img\" src=https://i1.sndcdn.com/artworks-raS55Bhje3fbC8nz-q1JXFQ-t500x500.jpg></img>somber battle!? by Quinn</div></a>\n",
      "\n",
      "<a href=\"https://soundcloud.com/quinn79468/pumpkin-cake?utm_source=clipboard&utm_medium=text&utm_campaign=social_sharing\"><div class=\"ach\"> <img class=\"ach-img\" src=https://i1.sndcdn.com/artworks-nheyNXVdPZzD-0-t500x500.jpg></img>Pumpkin Cake by Quinn</div></a>\n",
      "\n"
     ]
    }
   ],
   "source": [
    "def music_handler(f, o):\n",
    "    current_line = next(f)\n",
    "    if current_line[0] == \"!\":\n",
    "        return current_line \n",
    "    \n",
    "    trackLink = current_line.strip()\n",
    "    parameters = {\"url\": trackLink, \"format\": \"json\"}\n",
    "    trackJson = requests.get(\"https://soundcloud.com/oembed\", params = parameters).json()\n",
    "    trackThumb = trackJson['thumbnail_url']\n",
    "    trackTitle = trackJson['title']\n",
    "    htmlBlock = f'<a href=\"{trackLink}\"><div class=\"ach\"> <img class=\"ach-img\" src={trackThumb}></img>{trackTitle}</div></a>\\n'\n",
    "    print(htmlBlock)\n",
    "    o.write(htmlBlock)\n",
    "    music_handler(f, o)\n",
    "    \n",
    "\n",
    "    \n",
    "with open(\"data.txt\", \"r+\") as f:\n",
    "    output = open(f'output {str(datetime.datetime.now())}.txt', \"x\")\n",
    "    line = next(f)\n",
    "    while line != \"\":\n",
    "        if line == \"!music\\n\":\n",
    "            line = music_handler(f, output)\n",
    "            continue # so that we can check for EOF after recursion\n",
    "        #elif l == \"!personal\":\n",
    "        #elif l == \"!projects\":\n",
    "        line = \"\"\n",
    "    output.close()\n",
    "            \n",
    "    \n",
    "        "
   ]
  },
  {
   "cell_type": "code",
   "execution_count": null,
   "metadata": {},
   "outputs": [],
   "source": []
  },
  {
   "cell_type": "code",
   "execution_count": null,
   "metadata": {},
   "outputs": [],
   "source": []
  }
 ],
 "metadata": {
  "kernelspec": {
   "display_name": "Python 3",
   "language": "python",
   "name": "python3"
  },
  "language_info": {
   "codemirror_mode": {
    "name": "ipython",
    "version": 3
   },
   "file_extension": ".py",
   "mimetype": "text/x-python",
   "name": "python",
   "nbconvert_exporter": "python",
   "pygments_lexer": "ipython3",
   "version": "3.8.5"
  }
 },
 "nbformat": 4,
 "nbformat_minor": 4
}

{
 "cells": [
  {
   "cell_type": "code",
   "execution_count": 17,
   "metadata": {},
   "outputs": [],
   "source": [
    "import requests\n",
    "from requests.auth import HTTPBasicAuth\n",
    "import datetime\n",
    "import re\n",
    "import base64"
   ]
  },
  {
   "cell_type": "code",
   "execution_count": 35,
   "metadata": {},
   "outputs": [
    {
     "name": "stdout",
     "output_type": "stream",
     "text": [
      "!music\n",
      "\n",
      "found music\n"
     ]
    }
   ],
   "source": [
    "def readOnlyLine(fileName):\n",
    "    with open(f'{fileName}') as f:\n",
    "        return next(f)\n",
    "    \n",
    "def music_handler(f, o):\n",
    "    current_line = next(f)\n",
    "    if current_line[0] == \"!\":\n",
    "        o.write(\"!--------MUSIC END-------------\\n\\n\")\n",
    "        return current_line \n",
    "    \n",
    "    trackLink = current_line.strip()\n",
    "    parameters = {\"url\": trackLink, \"format\": \"json\"}\n",
    "    website = re.search('\\/\\/(.+?)\\/', trackLink).group(1)\n",
    "    trackJson = requests.get(f'https://{website}/oembed', params = parameters).json()\n",
    "    trackThumb = trackJson['thumbnail_url']\n",
    "    trackTitle = trackJson['title']\n",
    "    htmlBlock = f'<div class=\"ach skew-x-6\"> <a href=\"{trackLink}\"><img class=\"ach-img\" src={trackThumb}/></a><p class=\"musicgi-title\">{trackTitle}</p></div>\\n\\n'\n",
    "    o.write(htmlBlock)\n",
    "    music_handler(f, o)\n",
    "    \n",
    "def playlist_handler(o):\n",
    "    o.write(\"!--------PLAYLISTS-------------\\n\")\n",
    "    parameters = {\"grant_type\": \"client_credentials\", \"client_id\": readOnlyLine(\"spotifyID.txt\"), \"client_secret\": readOnlyLine(\"spotifySecret.txt\")}\n",
    "    \n",
    "    authJson = requests.post(f'https://accounts.spotify.com/api/token', \n",
    "                             params = parameters,\n",
    "                             headers={\n",
    "                                 'Content-Type': \"application/x-www-form-urlencoded\"\n",
    "                             }).json()\n",
    "\n",
    "    accessToken = authJson['access_token']\n",
    "    playlistsJson = requests.get(f'https://api.spotify.com/v1/users/22kb7mgop3ckzk6wvv7h6qnqy/playlists',\n",
    "                                 params = parameters,\n",
    "                                 headers={\n",
    "                                     'Authorization': f'Bearer {accessToken}',\n",
    "                                     'Content-Type': \"application/json\"\n",
    "                                 }).json()\n",
    "    \n",
    "    for items in playlistsJson['items']:\n",
    "        playlistLink = f'https://open.spotify.com/playlist/{items[\"id\"]}'\n",
    "        try:\n",
    "            imgSrc = items['images'][0]['url']\n",
    "        except:\n",
    "            continue\n",
    "        playlistTitle = items['name']\n",
    "        htmlBlock = f'<div class=\"ach skew-x-6\"> <a href=\"{playlistLink}\"><img class=\"ach-img\" src={imgSrc}/></a><p class=\"playlist-title\">{playlistTitle}</p></div>\\n\\n'\n",
    "        o.write(htmlBlock)\n",
    "    o.write(\"!--------PLAYLISTS END----------\\n\\n\")\n",
    "    return\n",
    "    \n",
    "def git_handler(o):\n",
    "    o.write(\"!--------PROJECTS START----------\\n\\n\")\n",
    "    parameters = {\"username\": \"QuinnDACollins\", \"type\":\"owner\", \"sort\":\"pushed\", \"per_page\":\"5\"}\n",
    "    repoJson = requests.get(f'https://api.github.com/user/repos', \n",
    "                             auth = HTTPBasicAuth('QuinnDACollins', readOnlyLine(\"gitSecret.txt\")),\n",
    "                             params=parameters\n",
    "                             ).json()\n",
    "    for repo in repoJson:\n",
    "        repoTitle = repo['full_name']\n",
    "        repoThumbJson = requests.get(f'https://api.github.com/repos/{repoTitle}/contents/thumb.png', \n",
    "                             auth = HTTPBasicAuth('QuinnDACollins', readOnlyLine(\"gitSecret.txt\")),\n",
    "                             params=parameters\n",
    "                             ).json()\n",
    "        try:\n",
    "            imgSrc = repoThumbJson['download_url']\n",
    "        except:\n",
    "            imgSrc = \"data/gitpl.png\"\n",
    "        repoLink = repo['svn_url']\n",
    "        repoName = repo['name']\n",
    "        htmlBlock = f'<div class=\"ach skew-x-6\"> <a href=\"{repoLink}\"><img class=\"ach-img\" src={imgSrc}/></a><p class=\"playlist-title\">{repoName}</p></div>\\n\\n'\n",
    "        o.write(htmlBlock)\n",
    "    o.write(\"!--------PROJECTS END----------\\n\\n\")\n",
    "    return\n",
    "\n",
    "with open(\"data.txt\", \"r+\") as f:\n",
    "    output = open(f'output {str(datetime.datetime.now())}.txt', \"x\")\n",
    "    playlist_handler(output)\n",
    "    git_handler(output)\n",
    "    line = next(f)\n",
    "    #check for a playlist link under the playlist flag\n",
    "    # check for repeated music links under music flags and projects under project flag.\n",
    "    while line != \"\":\n",
    "        if line == \"!music\\n\":\n",
    "            output.write(\"!--------MUSIC-------------\\n\")\n",
    "            line = music_handler(f, output)\n",
    "            continue # so that we can check for EOF after recursion\n",
    "        # elif l == \"!projects\":\n",
    "        line = \"\"\n",
    "    output.close()"
   ]
  },
  {
   "cell_type": "code",
   "execution_count": null,
   "metadata": {},
   "outputs": [],
   "source": []
  },
  {
   "cell_type": "code",
   "execution_count": null,
   "metadata": {},
   "outputs": [],
   "source": []
  }
 ],
 "metadata": {
  "kernelspec": {
   "display_name": "Python 3",
   "language": "python",
   "name": "python3"
  },
  "language_info": {
   "codemirror_mode": {
    "name": "ipython",
    "version": 3
   },
   "file_extension": ".py",
   "mimetype": "text/x-python",
   "name": "python",
   "nbconvert_exporter": "python",
   "pygments_lexer": "ipython3",
   "version": "3.8.5"
  }
 },
 "nbformat": 4,
 "nbformat_minor": 4
}

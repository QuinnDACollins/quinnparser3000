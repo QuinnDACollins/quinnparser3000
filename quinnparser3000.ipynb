{
 "cells": [
  {
   "cell_type": "code",
   "execution_count": 1,
   "metadata": {},
   "outputs": [],
   "source": [
    "import requests\n",
    "import datetime\n",
    "import re"
   ]
  },
  {
   "cell_type": "code",
   "execution_count": 8,
   "metadata": {},
   "outputs": [
    {
     "name": "stdout",
     "output_type": "stream",
     "text": [
      "{'url': 'https://music.apple.com/us/playlist/quinn-top-100-2021/pl.u-4JomajBFaeKMDl4', 'type': 'rich', 'version': '1.0', 'title': 'quinn top 100 2021 by Quinn Collins', 'provider_name': 'Apple\\xa0Music', 'description': 'Playlist · 100 Songs', 'thumbnail_url': 'https://is4-ssl.mzstatic.com/image/thumb/5LKnBrQIUARZ6-nbj9eaGw/1200x630wp-60.jpg', 'thumbnail_width': 1200, 'thumbnail_height': 630, 'height': 450, 'html': '<div style=\"left: 0; width: 100%; height: 450px; position: relative;\"><iframe src=\"https://embed.music.apple.com/us/playlist/quinn-top-100-2021/pl.u-4JomajBFaeKMDl4\" style=\"top: 0; left: 0; width: 100%; height: 100%; position: absolute; border: 0;\" allowfullscreen allow=\"encrypted-media;\"></iframe></div>', 'messages': ['You may also change height by appending ?_height= to the URL itself.'], 'cache_age': 86400, 'options': {'_height': {'label': 'Adjust height', 'value': 450, 'placeholder': 'ex.: 600, in px'}}}\n"
     ]
    }
   ],
   "source": [
    "def getApiKey(appName):\n",
    "    with open(f'{appName}Key.txt') as keyFile:\n",
    "        return next(keyFile)\n",
    "    \n",
    "def music_handler(f, o):\n",
    "    current_line = next(f)\n",
    "    if current_line[0] == \"!\":\n",
    "        return current_line \n",
    "    \n",
    "    trackLink = current_line.strip()\n",
    "    parameters = {\"url\": trackLink, \"format\": \"json\"}\n",
    "    website = re.search('\\/\\/(.+?)\\/', trackLink).group(1)\n",
    "    trackJson = requests.get(f'https://{website}/oembed', params = parameters).json()\n",
    "    trackThumb = trackJson['thumbnail_url']\n",
    "    trackTitle = trackJson['title']\n",
    "    htmlBlock = f'<a href=\"{trackLink}\"><div class=\"ach\"> <img class=\"ach-img\" src={trackThumb}></img>{trackTitle}</div></a>\\n'\n",
    "    o.write(htmlBlock)\n",
    "    music_handler(f, o)\n",
    "    \n",
    "def playlist_handler(f, o):\n",
    "    current_line = next(f)\n",
    "    if current_line[0] == \"!\":\n",
    "        return current_line \n",
    "    \n",
    "    trackLink = current_line.strip()\n",
    "    parameters = {\"url\": trackLink, \"api_key\": getApiKey(\"iframely\")}\n",
    "    trackJson = requests.get(f'https://iframe.ly/api/oembed', params = parameters).json()\n",
    "    print(trackJson)\n",
    "    trackThumb = trackJson['thumbnail_url']\n",
    "    trackTitle = trackJson['title']\n",
    "    htmlBlock = f'<a href=\"{trackLink}\"><div class=\"ach\"> <img class=\"ach-img\" src={trackThumb}></img>{trackTitle}</div></a>\\n'\n",
    "    o.write(htmlBlock)\n",
    "    playlist_handler(f, o)\n",
    "    \n",
    "with open(\"data.txt\", \"r+\") as f:\n",
    "    output = open(f'output {str(datetime.datetime.now())}.txt', \"x\")\n",
    "    line = next(f)\n",
    "    #check for a playlist link under the playlist flag\n",
    "    if(line == \"!playlist\\n\"):\n",
    "        line = playlist_handler(f, output)\n",
    "    # check for repeated music links under music flags and projects under project flag.\n",
    "    while line != \"\":\n",
    "        if line == \"!music\\n\":\n",
    "            line = music_handler(f, output)\n",
    "            continue # so that we can check for EOF after recursion\n",
    "        # elif l == \"!projects\":\n",
    "        line = \"\"\n",
    "    output.close()\n",
    "            \n",
    "    \n",
    "        "
   ]
  },
  {
   "cell_type": "code",
   "execution_count": null,
   "metadata": {},
   "outputs": [],
   "source": []
  },
  {
   "cell_type": "code",
   "execution_count": null,
   "metadata": {},
   "outputs": [],
   "source": []
  }
 ],
 "metadata": {
  "kernelspec": {
   "display_name": "Python 3",
   "language": "python",
   "name": "python3"
  },
  "language_info": {
   "codemirror_mode": {
    "name": "ipython",
    "version": 3
   },
   "file_extension": ".py",
   "mimetype": "text/x-python",
   "name": "python",
   "nbconvert_exporter": "python",
   "pygments_lexer": "ipython3",
   "version": "3.8.5"
  }
 },
 "nbformat": 4,
 "nbformat_minor": 4
}

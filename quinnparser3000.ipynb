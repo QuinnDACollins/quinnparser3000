{
 "cells": [
  {
   "cell_type": "code",
   "execution_count": 1,
   "metadata": {},
   "outputs": [],
   "source": [
    "import requests\n",
    "import datetime\n",
    "import re\n",
    "import base64"
   ]
  },
  {
   "cell_type": "code",
   "execution_count": 31,
   "metadata": {},
   "outputs": [],
   "source": [
    "def readOnlyLine(fileName):\n",
    "    with open(f'{fileName}') as f:\n",
    "        return next(f)\n",
    "    \n",
    "def music_handler(f, o):\n",
    "    current_line = next(f)\n",
    "    if current_line[0] == \"!\":\n",
    "        return current_line \n",
    "    \n",
    "    trackLink = current_line.strip()\n",
    "    parameters = {\"url\": trackLink, \"format\": \"json\"}\n",
    "    website = re.search('\\/\\/(.+?)\\/', trackLink).group(1)\n",
    "    trackJson = requests.get(f'https://{website}/oembed', params = parameters).json()\n",
    "    trackThumb = trackJson['thumbnail_url']\n",
    "    trackTitle = trackJson['title']\n",
    "    htmlBlock = f'<a href=\"{trackLink}\"><div class=\"ach\"> <img class=\"ach-img\" src={trackThumb}></img>{trackTitle}</div></a>\\n'\n",
    "    o.write(htmlBlock)\n",
    "    music_handler(f, o)\n",
    "    \n",
    "def playlist_handler(f, o):\n",
    "    current_line = next(f)\n",
    "    if current_line[0] == \"!\":\n",
    "        return current_line \n",
    "    \n",
    "    trackLink = current_line.strip()\n",
    "    parameters = {\"grant_type\": \"client_credentials\", \"client_id\": readOnlyLine(\"spotifyID.txt\"), \"client_secret\": readOnlyLine(\"spotifySecret.txt\")}\n",
    "    \n",
    "    authJson = requests.post(f'https://accounts.spotify.com/api/token', \n",
    "                             params = parameters,\n",
    "                             headers={\n",
    "                                 'Content-Type': \"application/x-www-form-urlencoded\"\n",
    "                             }).json()\n",
    "\n",
    "    accessToken = authJson['access_token']\n",
    "    playlistsJson = requests.get(f'https://api.spotify.com/v1/users/22kb7mgop3ckzk6wvv7h6qnqy/playlists',\n",
    "                                 params = parameters,\n",
    "                                 headers={\n",
    "                                     'Authorization': f'Bearer {accessToken}',\n",
    "                                     'Content-Type': \"application/json\"\n",
    "                                 }).json()\n",
    "    \n",
    "    for items in playlistsJson['items']:\n",
    "        playlistLink = f'https://open.spotify.com/playlist/{items[\"id\"]}'\n",
    "        try:\n",
    "            imgSrc = items['images'][0]['url']\n",
    "        except:\n",
    "            continue\n",
    "        playlistTitle = items['name']\n",
    "        htmlBlock = f'<a href=\"{playlistLink}\"><div class=\"ach\"> <img class=\"ach-img\" src={imgSrc}></img>{playlistTitle}</div></a>\\n\\n'\n",
    "        o.write(htmlBlock)\n",
    "    playlist_handler(f, o)\n",
    "    \n",
    "with open(\"data.txt\", \"r+\") as f:\n",
    "    output = open(f'output {str(datetime.datetime.now())}.txt', \"x\")\n",
    "    line = next(f)\n",
    "    #check for a playlist link under the playlist flag\n",
    "    if(line == \"!playlist\\n\"):\n",
    "        line = playlist_handler(f, output)\n",
    "    # check for repeated music links under music flags and projects under project flag.\n",
    "    while line != \"\":\n",
    "        if line == \"!music\\n\":\n",
    "            line = music_handler(f, output)\n",
    "            continue # so that we can check for EOF after recursion\n",
    "        # elif l == \"!projects\":\n",
    "        line = \"\"\n",
    "    output.close()\n",
    "            \n",
    "    \n",
    "        "
   ]
  },
  {
   "cell_type": "code",
   "execution_count": null,
   "metadata": {},
   "outputs": [],
   "source": []
  },
  {
   "cell_type": "code",
   "execution_count": null,
   "metadata": {},
   "outputs": [],
   "source": []
  }
 ],
 "metadata": {
  "kernelspec": {
   "display_name": "Python 3",
   "language": "python",
   "name": "python3"
  },
  "language_info": {
   "codemirror_mode": {
    "name": "ipython",
    "version": 3
   },
   "file_extension": ".py",
   "mimetype": "text/x-python",
   "name": "python",
   "nbconvert_exporter": "python",
   "pygments_lexer": "ipython3",
   "version": "3.8.5"
  }
 },
 "nbformat": 4,
 "nbformat_minor": 4
}
